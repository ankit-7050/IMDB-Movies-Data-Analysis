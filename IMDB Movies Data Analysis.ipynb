{
 "cells": [
  {
   "cell_type": "code",
   "execution_count": 1,
   "id": "e388f1f0",
   "metadata": {},
   "outputs": [],
   "source": [
    "import numpy as np\n",
    "import pandas as pd\n",
    "import sqlite3"
   ]
  },
  {
   "cell_type": "code",
   "execution_count": 2,
   "id": "6b0edfcd",
   "metadata": {},
   "outputs": [],
   "source": [
    "db = sqlite3.connect(r\"C:\\Users\\ankit\\Downloads\\movies dataset\\movies.sqlite\")"
   ]
  },
  {
   "cell_type": "code",
   "execution_count": 3,
   "id": "2f07dfa3",
   "metadata": {},
   "outputs": [
    {
     "name": "stdout",
     "output_type": "stream",
     "text": [
      "         id                            original_title     budget  popularity  \\\n",
      "0     43597                                    Avatar  237000000         150   \n",
      "1     43598  Pirates of the Caribbean: At World's End  300000000         139   \n",
      "2     43599                                   Spectre  245000000         107   \n",
      "3     43600                     The Dark Knight Rises  250000000         112   \n",
      "4     43601                               John Carter  260000000          43   \n",
      "...     ...                                       ...        ...         ...   \n",
      "4768  48395                               El Mariachi     220000          14   \n",
      "4769  48396                                 Newlyweds       9000           0   \n",
      "4770  48397                 Signed, Sealed, Delivered          0           1   \n",
      "4771  48398                          Shanghai Calling          0           0   \n",
      "4772  48399                         My Date with Drew          0           1   \n",
      "\n",
      "     release_date     revenue                                     title  \\\n",
      "0      2009-12-10  2787965087                                    Avatar   \n",
      "1      2007-05-19   961000000  Pirates of the Caribbean: At World's End   \n",
      "2      2015-10-26   880674609                                   Spectre   \n",
      "3      2012-07-16  1084939099                     The Dark Knight Rises   \n",
      "4      2012-03-07   284139100                               John Carter   \n",
      "...           ...         ...                                       ...   \n",
      "4768   1992-09-04     2040920                               El Mariachi   \n",
      "4769   2011-12-26           0                                 Newlyweds   \n",
      "4770   2013-10-13           0                 Signed, Sealed, Delivered   \n",
      "4771   2012-05-03           0                          Shanghai Calling   \n",
      "4772   2005-08-05           0                         My Date with Drew   \n",
      "\n",
      "      vote_average  vote_count  \\\n",
      "0              7.2       11800   \n",
      "1              6.9        4500   \n",
      "2              6.3        4466   \n",
      "3              7.6        9106   \n",
      "4              6.1        2124   \n",
      "...            ...         ...   \n",
      "4768           6.6         238   \n",
      "4769           5.9           5   \n",
      "4770           7.0           6   \n",
      "4771           5.7           7   \n",
      "4772           6.3          16   \n",
      "\n",
      "                                               overview  \\\n",
      "0     In the 22nd century, a paraplegic Marine is di...   \n",
      "1     Captain Barbossa, long believed to be dead, ha...   \n",
      "2     A cryptic message from Bond’s past sends him o...   \n",
      "3     Following the death of District Attorney Harve...   \n",
      "4     John Carter is a war-weary, former military ca...   \n",
      "...                                                 ...   \n",
      "4768  El Mariachi just wants to play his guitar and ...   \n",
      "4769  A newlywed couple's honeymoon is upended by th...   \n",
      "4770  \"Signed, Sealed, Delivered\" introduces a dedic...   \n",
      "4771  When ambitious New York attorney Sam is sent t...   \n",
      "4772  Ever since the second grade when he first saw ...   \n",
      "\n",
      "                                                tagline     uid  director_id  \n",
      "0                           Enter the World of Pandora.   19995         4762  \n",
      "1        At the end of the world, the adventure begins.     285         4763  \n",
      "2                                 A Plan No One Escapes  206647         4764  \n",
      "3                                       The Legend Ends   49026         4765  \n",
      "4                  Lost in our world, found in another.   49529         4766  \n",
      "...                                                 ...     ...          ...  \n",
      "4768  He didn't come looking for trouble, but troubl...    9367         5097  \n",
      "4769  A newlywed couple's honeymoon is upended by th...   72766         6485  \n",
      "4770                                               None  231617         7108  \n",
      "4771                           A New Yorker in Shanghai  126186         7109  \n",
      "4772                                               None   25975         7110  \n",
      "\n",
      "[4773 rows x 13 columns]\n"
     ]
    }
   ],
   "source": [
    "data = \"\"\"SELECT * FROM movies\"\"\"\n",
    "movies = pd.read_sql(data,db)\n",
    "print(movies)"
   ]
  },
  {
   "cell_type": "code",
   "execution_count": 4,
   "id": "c4fd834e",
   "metadata": {},
   "outputs": [
    {
     "data": {
      "text/html": [
       "<div>\n",
       "<style scoped>\n",
       "    .dataframe tbody tr th:only-of-type {\n",
       "        vertical-align: middle;\n",
       "    }\n",
       "\n",
       "    .dataframe tbody tr th {\n",
       "        vertical-align: top;\n",
       "    }\n",
       "\n",
       "    .dataframe thead th {\n",
       "        text-align: right;\n",
       "    }\n",
       "</style>\n",
       "<table border=\"1\" class=\"dataframe\">\n",
       "  <thead>\n",
       "    <tr style=\"text-align: right;\">\n",
       "      <th></th>\n",
       "      <th>id</th>\n",
       "      <th>original_title</th>\n",
       "      <th>budget</th>\n",
       "      <th>popularity</th>\n",
       "      <th>release_date</th>\n",
       "      <th>revenue</th>\n",
       "      <th>title</th>\n",
       "      <th>vote_average</th>\n",
       "      <th>vote_count</th>\n",
       "      <th>overview</th>\n",
       "      <th>tagline</th>\n",
       "      <th>uid</th>\n",
       "      <th>director_id</th>\n",
       "    </tr>\n",
       "  </thead>\n",
       "  <tbody>\n",
       "    <tr>\n",
       "      <th>0</th>\n",
       "      <td>43597</td>\n",
       "      <td>Avatar</td>\n",
       "      <td>237000000</td>\n",
       "      <td>150</td>\n",
       "      <td>2009-12-10</td>\n",
       "      <td>2787965087</td>\n",
       "      <td>Avatar</td>\n",
       "      <td>7.2</td>\n",
       "      <td>11800</td>\n",
       "      <td>In the 22nd century, a paraplegic Marine is di...</td>\n",
       "      <td>Enter the World of Pandora.</td>\n",
       "      <td>19995</td>\n",
       "      <td>4762</td>\n",
       "    </tr>\n",
       "    <tr>\n",
       "      <th>1</th>\n",
       "      <td>43598</td>\n",
       "      <td>Pirates of the Caribbean: At World's End</td>\n",
       "      <td>300000000</td>\n",
       "      <td>139</td>\n",
       "      <td>2007-05-19</td>\n",
       "      <td>961000000</td>\n",
       "      <td>Pirates of the Caribbean: At World's End</td>\n",
       "      <td>6.9</td>\n",
       "      <td>4500</td>\n",
       "      <td>Captain Barbossa, long believed to be dead, ha...</td>\n",
       "      <td>At the end of the world, the adventure begins.</td>\n",
       "      <td>285</td>\n",
       "      <td>4763</td>\n",
       "    </tr>\n",
       "    <tr>\n",
       "      <th>2</th>\n",
       "      <td>43599</td>\n",
       "      <td>Spectre</td>\n",
       "      <td>245000000</td>\n",
       "      <td>107</td>\n",
       "      <td>2015-10-26</td>\n",
       "      <td>880674609</td>\n",
       "      <td>Spectre</td>\n",
       "      <td>6.3</td>\n",
       "      <td>4466</td>\n",
       "      <td>A cryptic message from Bond’s past sends him o...</td>\n",
       "      <td>A Plan No One Escapes</td>\n",
       "      <td>206647</td>\n",
       "      <td>4764</td>\n",
       "    </tr>\n",
       "    <tr>\n",
       "      <th>3</th>\n",
       "      <td>43600</td>\n",
       "      <td>The Dark Knight Rises</td>\n",
       "      <td>250000000</td>\n",
       "      <td>112</td>\n",
       "      <td>2012-07-16</td>\n",
       "      <td>1084939099</td>\n",
       "      <td>The Dark Knight Rises</td>\n",
       "      <td>7.6</td>\n",
       "      <td>9106</td>\n",
       "      <td>Following the death of District Attorney Harve...</td>\n",
       "      <td>The Legend Ends</td>\n",
       "      <td>49026</td>\n",
       "      <td>4765</td>\n",
       "    </tr>\n",
       "    <tr>\n",
       "      <th>4</th>\n",
       "      <td>43601</td>\n",
       "      <td>John Carter</td>\n",
       "      <td>260000000</td>\n",
       "      <td>43</td>\n",
       "      <td>2012-03-07</td>\n",
       "      <td>284139100</td>\n",
       "      <td>John Carter</td>\n",
       "      <td>6.1</td>\n",
       "      <td>2124</td>\n",
       "      <td>John Carter is a war-weary, former military ca...</td>\n",
       "      <td>Lost in our world, found in another.</td>\n",
       "      <td>49529</td>\n",
       "      <td>4766</td>\n",
       "    </tr>\n",
       "  </tbody>\n",
       "</table>\n",
       "</div>"
      ],
      "text/plain": [
       "      id                            original_title     budget  popularity  \\\n",
       "0  43597                                    Avatar  237000000         150   \n",
       "1  43598  Pirates of the Caribbean: At World's End  300000000         139   \n",
       "2  43599                                   Spectre  245000000         107   \n",
       "3  43600                     The Dark Knight Rises  250000000         112   \n",
       "4  43601                               John Carter  260000000          43   \n",
       "\n",
       "  release_date     revenue                                     title  \\\n",
       "0   2009-12-10  2787965087                                    Avatar   \n",
       "1   2007-05-19   961000000  Pirates of the Caribbean: At World's End   \n",
       "2   2015-10-26   880674609                                   Spectre   \n",
       "3   2012-07-16  1084939099                     The Dark Knight Rises   \n",
       "4   2012-03-07   284139100                               John Carter   \n",
       "\n",
       "   vote_average  vote_count  \\\n",
       "0           7.2       11800   \n",
       "1           6.9        4500   \n",
       "2           6.3        4466   \n",
       "3           7.6        9106   \n",
       "4           6.1        2124   \n",
       "\n",
       "                                            overview  \\\n",
       "0  In the 22nd century, a paraplegic Marine is di...   \n",
       "1  Captain Barbossa, long believed to be dead, ha...   \n",
       "2  A cryptic message from Bond’s past sends him o...   \n",
       "3  Following the death of District Attorney Harve...   \n",
       "4  John Carter is a war-weary, former military ca...   \n",
       "\n",
       "                                          tagline     uid  director_id  \n",
       "0                     Enter the World of Pandora.   19995         4762  \n",
       "1  At the end of the world, the adventure begins.     285         4763  \n",
       "2                           A Plan No One Escapes  206647         4764  \n",
       "3                                 The Legend Ends   49026         4765  \n",
       "4            Lost in our world, found in another.   49529         4766  "
      ]
     },
     "execution_count": 4,
     "metadata": {},
     "output_type": "execute_result"
    }
   ],
   "source": [
    "movies.head()"
   ]
  },
  {
   "cell_type": "code",
   "execution_count": 5,
   "id": "07f66d8c",
   "metadata": {},
   "outputs": [
    {
     "name": "stdout",
     "output_type": "stream",
     "text": [
      "                   name    id  gender      uid department\n",
      "0         James Cameron  4762       2     2710  Directing\n",
      "1        Gore Verbinski  4763       2     1704  Directing\n",
      "2            Sam Mendes  4764       2       39  Directing\n",
      "3     Christopher Nolan  4765       2      525  Directing\n",
      "4        Andrew Stanton  4766       2        7  Directing\n",
      "...                 ...   ...     ...      ...        ...\n",
      "2344      Shane Carruth  7106       2    76624  Directing\n",
      "2345   Neill Dela Llana  7107       0  1174437  Directing\n",
      "2346        Scott Smith  7108       0  1219158  Directing\n",
      "2347        Daniel Hsia  7109       2   208138  Directing\n",
      "2348   Brian Herzlinger  7110       2    85563  Directing\n",
      "\n",
      "[2349 rows x 5 columns]\n"
     ]
    }
   ],
   "source": [
    "dirs = \"\"\"SELECT * FROM directors\"\"\"\n",
    "directors = pd.read_sql(dirs, db)\n",
    "print(directors)"
   ]
  },
  {
   "cell_type": "code",
   "execution_count": 6,
   "id": "ee1c22bc",
   "metadata": {},
   "outputs": [
    {
     "data": {
      "text/plain": [
       "Index(['id', 'original_title', 'budget', 'popularity', 'release_date',\n",
       "       'revenue', 'title', 'vote_average', 'vote_count', 'overview', 'tagline',\n",
       "       'uid', 'director_id'],\n",
       "      dtype='object')"
      ]
     },
     "execution_count": 6,
     "metadata": {},
     "output_type": "execute_result"
    }
   ],
   "source": [
    "movies.columns"
   ]
  },
  {
   "cell_type": "code",
   "execution_count": 7,
   "id": "762b194a",
   "metadata": {},
   "outputs": [
    {
     "name": "stdout",
     "output_type": "stream",
     "text": [
      "<class 'pandas.core.frame.DataFrame'>\n",
      "RangeIndex: 4773 entries, 0 to 4772\n",
      "Data columns (total 13 columns):\n",
      " #   Column          Non-Null Count  Dtype  \n",
      "---  ------          --------------  -----  \n",
      " 0   id              4773 non-null   int64  \n",
      " 1   original_title  4773 non-null   object \n",
      " 2   budget          4773 non-null   int64  \n",
      " 3   popularity      4773 non-null   int64  \n",
      " 4   release_date    4773 non-null   object \n",
      " 5   revenue         4773 non-null   int64  \n",
      " 6   title           4773 non-null   object \n",
      " 7   vote_average    4773 non-null   float64\n",
      " 8   vote_count      4773 non-null   int64  \n",
      " 9   overview        4770 non-null   object \n",
      " 10  tagline         3951 non-null   object \n",
      " 11  uid             4773 non-null   int64  \n",
      " 12  director_id     4773 non-null   int64  \n",
      "dtypes: float64(1), int64(7), object(5)\n",
      "memory usage: 484.9+ KB\n"
     ]
    }
   ],
   "source": [
    "movies.info()"
   ]
  },
  {
   "cell_type": "code",
   "execution_count": 8,
   "id": "8968cf09",
   "metadata": {},
   "outputs": [
    {
     "data": {
      "text/plain": [
       "Index(['name', 'id', 'gender', 'uid', 'department'], dtype='object')"
      ]
     },
     "execution_count": 8,
     "metadata": {},
     "output_type": "execute_result"
    }
   ],
   "source": [
    "directors.columns"
   ]
  },
  {
   "cell_type": "code",
   "execution_count": 9,
   "id": "9b186abe",
   "metadata": {},
   "outputs": [
    {
     "name": "stdout",
     "output_type": "stream",
     "text": [
      "<class 'pandas.core.frame.DataFrame'>\n",
      "RangeIndex: 2349 entries, 0 to 2348\n",
      "Data columns (total 5 columns):\n",
      " #   Column      Non-Null Count  Dtype \n",
      "---  ------      --------------  ----- \n",
      " 0   name        2349 non-null   object\n",
      " 1   id          2349 non-null   int64 \n",
      " 2   gender      2349 non-null   int64 \n",
      " 3   uid         2349 non-null   int64 \n",
      " 4   department  2349 non-null   object\n",
      "dtypes: int64(3), object(2)\n",
      "memory usage: 91.9+ KB\n"
     ]
    }
   ],
   "source": [
    "directors.info()"
   ]
  },
  {
   "cell_type": "code",
   "execution_count": 10,
   "id": "c6cea771",
   "metadata": {},
   "outputs": [
    {
     "data": {
      "text/plain": [
       "name          0\n",
       "id            0\n",
       "gender        0\n",
       "uid           0\n",
       "department    0\n",
       "dtype: int64"
      ]
     },
     "execution_count": 10,
     "metadata": {},
     "output_type": "execute_result"
    }
   ],
   "source": [
    "directors.isnull().sum()"
   ]
  },
  {
   "cell_type": "code",
   "execution_count": 11,
   "id": "bb3b4398",
   "metadata": {},
   "outputs": [
    {
     "data": {
      "text/plain": [
       "id                  0\n",
       "original_title      0\n",
       "budget              0\n",
       "popularity          0\n",
       "release_date        0\n",
       "revenue             0\n",
       "title               0\n",
       "vote_average        0\n",
       "vote_count          0\n",
       "overview            3\n",
       "tagline           822\n",
       "uid                 0\n",
       "director_id         0\n",
       "dtype: int64"
      ]
     },
     "execution_count": 11,
     "metadata": {},
     "output_type": "execute_result"
    }
   ],
   "source": [
    "movies.isnull().sum()"
   ]
  },
  {
   "cell_type": "code",
   "execution_count": 12,
   "id": "78a16f32",
   "metadata": {},
   "outputs": [
    {
     "name": "stdout",
     "output_type": "stream",
     "text": [
      "   no_of_movies\n",
      "0          4773\n"
     ]
    }
   ],
   "source": [
    "movies = \"\"\"SELECT COUNT(*) AS no_of_movies FROM movies\"\"\"\n",
    "no_of_movies = pd.read_sql(movies, db)\n",
    "print(no_of_movies)"
   ]
  },
  {
   "cell_type": "code",
   "execution_count": 13,
   "id": "668d6f50",
   "metadata": {},
   "outputs": [
    {
     "name": "stdout",
     "output_type": "stream",
     "text": [
      "             name    id  gender      uid department\n",
      "0   James Cameron  4762       2     2710  Directing\n",
      "1  Andrew Stanton  4766       2        7  Directing\n",
      "2     Scott Smith  7108       0  1219158  Directing\n"
     ]
    }
   ],
   "source": [
    "directors1 = \"\"\"SELECT * FROM directors\n",
    "                WHERE name == 'James Cameron' OR name == 'Andrew Stanton' OR name== 'Scott Smith' \"\"\"\n",
    "directors_name = pd.read_sql(directors1, db)\n",
    "print(directors_name)"
   ]
  },
  {
   "cell_type": "code",
   "execution_count": 14,
   "id": "02b243f6",
   "metadata": {},
   "outputs": [
    {
     "name": "stdout",
     "output_type": "stream",
     "text": [
      "                     name    id  gender      uid department\n",
      "0           James Cameron  4762       2     2710  Directing\n",
      "1               James Wan  4794       2     2127  Directing\n",
      "2              James Gunn  4827       2    15218  Directing\n",
      "3             James Bobin  4834       0    26205  Directing\n",
      "4         James L. Brooks  4899       2     3388  Directing\n",
      "5           James Mangold  4900       2      366  Directing\n",
      "6             James Algar  5011       2     5690  Directing\n",
      "7          James McTeigue  5204       2    11266  Directing\n",
      "8              James Wong  5239       2    57134  Directing\n",
      "9           James Gartner  5461       2    60496  Directing\n",
      "10             James Gray  5520       2    20561  Directing\n",
      "11          James Bridges  5580       2    14838  Directing\n",
      "12          James Schamus  5742       0     1617  Directing\n",
      "13            James Ivory  5826       2    54441  Directing\n",
      "14          James Watkins  5842       0    63306  Directing\n",
      "15            James Marsh  5847       2    76998  Directing\n",
      "16            James Foley  5876       2    15890  Directing\n",
      "17            James Isaac  5927       2    69579  Directing\n",
      "18            James Fargo  5934       2    66222  Directing\n",
      "19         James DeMonaco  6057       2    53120  Directing\n",
      "20          James Frawley  6188       2    68457  Directing\n",
      "21             James Nunn  6227       0  1088096  Directing\n",
      "22         James D. Stern  6249       2    52159  Directing\n",
      "23              James Cox  6339       2    40508  Directing\n",
      "24           James Toback  6340       2    56381  Directing\n",
      "25           James Manera  6399       0  1343882  Directing\n",
      "26        James Melkonian  6460       0    73668  Directing\n",
      "27            James Whale  6484       2     2917  Directing\n",
      "28         James Ponsoldt  6607       0   930710  Directing\n",
      "29           James Dodson  6612       2    61848  Directing\n",
      "30          James Mottern  6744       0   105313  Directing\n",
      "31  James David Pasternak  6782       0   233519  Directing\n",
      "32          James O'Brien  7014       0  1562428  Directing\n",
      "33           James Kerwin  7030       0  1187357  Directing\n",
      "34          James Bidgood  7093       0   237393  Directing\n"
     ]
    }
   ],
   "source": [
    "directors2 = \"\"\"SELECT * FROM directors\n",
    "                WHERE name LIKE 'James%'\"\"\"\n",
    "James_directors = pd.read_sql(directors2, db)\n",
    "print(James_directors)"
   ]
  },
  {
   "cell_type": "code",
   "execution_count": 15,
   "id": "4bb29d0c",
   "metadata": {},
   "outputs": [
    {
     "name": "stdout",
     "output_type": "stream",
     "text": [
      "                     name    id  gender      uid department\n",
      "0             Kevin Smith  5369       2    19303  Directing\n",
      "1    Charles Martin Smith  5371       2     1270  Directing\n",
      "2            Carter Smith  5584       0    68352  Directing\n",
      "3   Brian Trenchard-Smith  5638       0    84981  Directing\n",
      "4         Jim Field Smith  5679       2   111686  Directing\n",
      "5       Christopher Smith  6019       2    41041  Directing\n",
      "6               Mel Smith  6116       2   141450  Directing\n",
      "7    Scott Marshall Smith  6126       2    69144  Directing\n",
      "8             Becky Smith  6843       0   939176  Directing\n",
      "9              Ryan Smith  6906       0  1100753  Directing\n",
      "10             Alex Smith  6941       2   641437  Directing\n",
      "11            Scott Smith  7108       0  1219158  Directing\n"
     ]
    }
   ],
   "source": [
    "directors3 = \"\"\"SELECT * FROM directors\n",
    "                WHERE name LIKE '%Smith'\"\"\"\n",
    "_smith_directors = pd.read_sql(directors3, db)\n",
    "print(_smith_directors)"
   ]
  },
  {
   "cell_type": "code",
   "execution_count": 16,
   "id": "37efc935",
   "metadata": {},
   "outputs": [
    {
     "name": "stdout",
     "output_type": "stream",
     "text": [
      "                name    id  gender      uid department\n",
      "0  Camille Delamarre  5525       0   928490  Directing\n",
      "1    Steve Bendelack  5564       2    16356  Directing\n",
      "2     Youssef Delara  6575       0   930627  Directing\n",
      "3   Neill Dela Llana  7107       0  1174437  Directing\n"
     ]
    }
   ],
   "source": [
    "directors4 = \"\"\"SELECT * FROM directors\n",
    "                WHERE name LIKE '%Dela%'\"\"\"\n",
    "_dela_directors = pd.read_sql(directors4, db)\n",
    "print(_dela_directors)"
   ]
  },
  {
   "cell_type": "code",
   "execution_count": 17,
   "id": "87b3bfb4",
   "metadata": {},
   "outputs": [
    {
     "name": "stdout",
     "output_type": "stream",
     "text": [
      "   COUNT(gender)\n",
      "0            150\n"
     ]
    }
   ],
   "source": [
    "directors5 = \"\"\"SELECT COUNT(gender) FROM directors\n",
    "                WHERE gender == 1\"\"\"\n",
    "female_directors = pd.read_sql(directors5, db)\n",
    "print(female_directors)"
   ]
  },
  {
   "cell_type": "code",
   "execution_count": 18,
   "id": "ddfc71fd",
   "metadata": {},
   "outputs": [
    {
     "name": "stdout",
     "output_type": "stream",
     "text": [
      "                  name     uid\n",
      "0       Brenda Chapman   59803\n",
      "1      Lilly Wachowski    9339\n",
      "2  Jennifer Yuh Nelson  142312\n",
      "3      Kathryn Bigelow   14392\n",
      "4         Nancy Meyers   17698\n"
     ]
    }
   ],
   "source": [
    "directors6 = \"\"\"SELECT name, uid FROM directors\n",
    "                WHERE gender ==1\n",
    "                LIMIT 5\"\"\"\n",
    "female_directors_uid = pd.read_sql(directors6, db)\n",
    "print(female_directors_uid)"
   ]
  },
  {
   "cell_type": "code",
   "execution_count": null,
   "id": "bc7880b5",
   "metadata": {},
   "outputs": [],
   "source": []
  },
  {
   "cell_type": "code",
   "execution_count": 19,
   "id": "96c61450",
   "metadata": {},
   "outputs": [
    {
     "name": "stdout",
     "output_type": "stream",
     "text": [
      "            original_title  popularity\n",
      "0                  Minions         875\n",
      "1             Interstellar         724\n",
      "2                 Deadpool         514\n",
      "3  Guardians of the Galaxy         481\n",
      "4       Mad Max: Fury Road         434\n"
     ]
    }
   ],
   "source": [
    "movies1 = \"\"\"SELECT original_title, popularity FROM movies\n",
    "            ORDER BY popularity DESC\n",
    "            LIMIT 5\"\"\"\n",
    "popular_movies = pd.read_sql(movies1, db)\n",
    "print(popular_movies)"
   ]
  },
  {
   "cell_type": "code",
   "execution_count": 20,
   "id": "3aa36df3",
   "metadata": {},
   "outputs": [
    {
     "name": "stdout",
     "output_type": "stream",
     "text": [
      "                                original_title     budget\n",
      "0  Pirates of the Caribbean: On Stranger Tides  380000000\n",
      "1     Pirates of the Caribbean: At World's End  300000000\n",
      "2                      Avengers: Age of Ultron  280000000\n",
      "3                             Superman Returns  270000000\n",
      "4                                  John Carter  260000000\n"
     ]
    }
   ],
   "source": [
    "movies2 = \"\"\"SELECT original_title, budget FROM movies\n",
    "            ORDER BY budget DESC\n",
    "            LIMIT 5\"\"\"\n",
    "high_budget_movies = pd.read_sql(movies2, db)\n",
    "print(high_budget_movies)"
   ]
  },
  {
   "cell_type": "code",
   "execution_count": 21,
   "id": "94ebfc2a",
   "metadata": {},
   "outputs": [
    {
     "name": "stdout",
     "output_type": "stream",
     "text": [
      "   original_title     revenue\n",
      "0          Avatar  2787965087\n",
      "1         Titanic  1845034188\n",
      "2    The Avengers  1519557910\n",
      "3  Jurassic World  1513528810\n",
      "4       Furious 7  1506249360\n"
     ]
    }
   ],
   "source": [
    "movies3 = \"\"\"SELECT original_title, revenue FROM movies\n",
    "            ORDER BY revenue DESC\n",
    "            LIMIT 5\"\"\"\n",
    "high_revenue_movies = pd.read_sql(movies3, db)\n",
    "print(high_revenue_movies)"
   ]
  },
  {
   "cell_type": "code",
   "execution_count": 22,
   "id": "ca9a0687",
   "metadata": {},
   "outputs": [
    {
     "name": "stdout",
     "output_type": "stream",
     "text": [
      "             original_title  vote_average\n",
      "0          Stiff Upper Lips          10.0\n",
      "1     Dancer, Texas Pop. 81          10.0\n",
      "2                 Sardaarji           9.5\n",
      "3            One Man's Hero           9.3\n",
      "4  The Shawshank Redemption           8.5\n"
     ]
    }
   ],
   "source": [
    "movies4 = \"\"\"SELECT original_title, vote_average FROM movies\n",
    "            ORDER BY vote_average DESC\n",
    "            LIMIT 5\"\"\"\n",
    "high_vote_average_movies = pd.read_sql(movies4, db)\n",
    "print(high_vote_average_movies)"
   ]
  },
  {
   "cell_type": "code",
   "execution_count": 23,
   "id": "70f0be7b",
   "metadata": {},
   "outputs": [
    {
     "name": "stdout",
     "output_type": "stream",
     "text": [
      "                             original_title  vote_average\n",
      "0                                    Avatar           7.2\n",
      "1  Pirates of the Caribbean: At World's End           6.9\n",
      "2                                   Spectre           6.3\n",
      "3                               John Carter           6.1\n",
      "4                              Spider-Man 3           5.9\n"
     ]
    }
   ],
   "source": [
    "movies5 = \"\"\"SELECT original_title, vote_average FROM movies\n",
    "            WHERE vote_average BETWEEN 5.0 AND 7.5 \n",
    "            LIMIT 5\"\"\"\n",
    "vote_average_movies = pd.read_sql(movies5, db)\n",
    "print(vote_average_movies)"
   ]
  },
  {
   "cell_type": "code",
   "execution_count": 24,
   "id": "36c28d09",
   "metadata": {},
   "outputs": [
    {
     "name": "stdout",
     "output_type": "stream",
     "text": [
      "    original_title  vote_count\n",
      "0        Inception       13752\n",
      "1  The Dark Knight       12002\n",
      "2           Avatar       11800\n",
      "3     The Avengers       11776\n",
      "4         Deadpool       10995\n"
     ]
    }
   ],
   "source": [
    "movies6 = \"\"\"SELECT original_title, vote_count FROM movies\n",
    "            ORDER BY vote_count DESC\n",
    "            LIMIT 5\"\"\"\n",
    "high_vote_count_movies = pd.read_sql(movies6, db)\n",
    "print(high_vote_count_movies)"
   ]
  },
  {
   "cell_type": "code",
   "execution_count": 25,
   "id": "44aa365b",
   "metadata": {},
   "outputs": [
    {
     "name": "stdout",
     "output_type": "stream",
     "text": [
      "      original_title  vote_count\n",
      "0        John Carter        2124\n",
      "1            Tangled        3330\n",
      "2   Superman Returns        1400\n",
      "3  Quantum of Solace        2965\n",
      "4    The Lone Ranger        2311\n"
     ]
    }
   ],
   "source": [
    "movies7 = \"\"\"SELECT original_title, vote_count FROM movies\n",
    "            WHERE vote_count < 3462\n",
    "            LIMIT 5\"\"\"\n",
    "vote_count_movies = pd.read_sql(movies7, db)\n",
    "print(vote_count_movies)"
   ]
  },
  {
   "cell_type": "code",
   "execution_count": 26,
   "id": "b2508742",
   "metadata": {},
   "outputs": [
    {
     "name": "stdout",
     "output_type": "stream",
     "text": [
      "    original_title                                  tagline\n",
      "0        Inception     Your mind is the scene of the crime.\n",
      "1  The Dark Knight                          Why So Serious?\n",
      "2           Avatar              Enter the World of Pandora.\n",
      "3     The Avengers                  Some assembly required.\n",
      "4         Deadpool  Witness the beginning of a happy ending\n"
     ]
    }
   ],
   "source": [
    "movies8 = \"\"\"SELECT original_title, tagline FROM movies\n",
    "            ORDER BY vote_count DESC\n",
    "            LIMIT 5\"\"\"\n",
    "tagline_of_movies = pd.read_sql(movies8, db)\n",
    "print(tagline_of_movies)"
   ]
  },
  {
   "cell_type": "code",
   "execution_count": 27,
   "id": "86194985",
   "metadata": {},
   "outputs": [
    {
     "name": "stdout",
     "output_type": "stream",
     "text": [
      "  release_date                            original_title\n",
      "0   2009-12-10                                    Avatar\n",
      "1   2007-05-19  Pirates of the Caribbean: At World's End\n",
      "2   2015-10-26                                   Spectre\n",
      "3   2012-07-16                     The Dark Knight Rises\n",
      "4   2012-03-07                               John Carter\n",
      "5   2007-05-01                              Spider-Man 3\n",
      "6   2010-11-24                                   Tangled\n",
      "7   2015-04-22                   Avengers: Age of Ultron\n",
      "8   2009-07-07    Harry Potter and the Half-Blood Prince\n",
      "9   2016-03-23        Batman v Superman: Dawn of Justice\n"
     ]
    }
   ],
   "source": [
    "movies9 = \"\"\"SELECT release_date, original_title FROM movies\n",
    "            WHERE release_date > 2007-05-19 \n",
    "            LIMIT 10\"\"\"\n",
    "movies_dates = pd.read_sql(movies9, db)\n",
    "print(movies_dates)"
   ]
  },
  {
   "cell_type": "code",
   "execution_count": 28,
   "id": "a33086cf",
   "metadata": {},
   "outputs": [
    {
     "name": "stdout",
     "output_type": "stream",
     "text": [
      "           original_title\n",
      "0  She's Out of My League\n"
     ]
    }
   ],
   "source": [
    "movies_or_directors1 = \"\"\"SELECT m.original_title FROM movies AS m\n",
    "                            JOIN directors AS d\n",
    "                            ON m.director_id = d.id\n",
    "                            WHERE name == 'Jim Field Smith'\"\"\"\n",
    "movies_name = pd.read_sql(movies_or_directors1, db)\n",
    "print(movies_name)"
   ]
  },
  {
   "cell_type": "code",
   "execution_count": 29,
   "id": "6cae462f",
   "metadata": {},
   "outputs": [
    {
     "name": "stdout",
     "output_type": "stream",
     "text": [
      "               name\n",
      "0  Steven Spielberg\n",
      "1       Michael Bay\n",
      "2     Peter Jackson\n",
      "3      Ridley Scott\n",
      "4      Bryan Singer\n"
     ]
    }
   ],
   "source": [
    "movies_or_directors2 = \"\"\"SELECT d.name FROM directors AS d\n",
    "                            JOIN movies AS m\n",
    "                            ON d.id = m.director_id\n",
    "                            GROUP BY m.director_id ORDER BY SUM(m.budget) DESC\n",
    "                            LIMIT 5\"\"\"\n",
    "directors_name = pd.read_sql(movies_or_directors2,db)\n",
    "print(directors_name)"
   ]
  },
  {
   "cell_type": "code",
   "execution_count": 30,
   "id": "7e711160",
   "metadata": {},
   "outputs": [
    {
     "name": "stdout",
     "output_type": "stream",
     "text": [
      "            original_title               name\n",
      "0                  Minions         Kyle Balda\n",
      "1             Interstellar  Christopher Nolan\n",
      "2                 Deadpool         Tim Miller\n",
      "3  Guardians of the Galaxy         James Gunn\n",
      "4       Mad Max: Fury Road      George Miller\n"
     ]
    }
   ],
   "source": [
    "movies_or_directors3 = \"\"\"SELECT m.original_title, d.name FROM movies AS m\n",
    "                            JOIN directors AS d\n",
    "                            ON m.director_id = d.id\n",
    "                            ORDER BY m.popularity DESC\n",
    "                            LIMIT 5\"\"\"\n",
    "movies_directors = pd.read_sql(movies_or_directors3, db)\n",
    "print(movies_directors)"
   ]
  },
  {
   "cell_type": "code",
   "execution_count": 31,
   "id": "a85001c7",
   "metadata": {},
   "outputs": [
    {
     "name": "stdout",
     "output_type": "stream",
     "text": [
      "    original_title               name                                  tagline\n",
      "0        Inception  Christopher Nolan     Your mind is the scene of the crime.\n",
      "1  The Dark Knight  Christopher Nolan                          Why So Serious?\n",
      "2           Avatar      James Cameron              Enter the World of Pandora.\n",
      "3     The Avengers        Joss Whedon                  Some assembly required.\n",
      "4         Deadpool         Tim Miller  Witness the beginning of a happy ending\n"
     ]
    }
   ],
   "source": [
    "movies_or_directors4 = \"\"\"SELECT m.original_title, d.name, m.tagline FROM movies AS m\n",
    "                            JOIN directors AS d\n",
    "                            ON m.director_id = d.id\n",
    "                            ORDER BY m.vote_count DESC\n",
    "                            LIMIT 5\"\"\"\n",
    "movies_by_vote_count = pd.read_sql(movies_or_directors4, db)\n",
    "print(movies_by_vote_count)"
   ]
  },
  {
   "cell_type": "code",
   "execution_count": 32,
   "id": "328ed9d1",
   "metadata": {},
   "outputs": [
    {
     "name": "stdout",
     "output_type": "stream",
     "text": [
      "         original_title                name release_date\n",
      "0              Superman      Richard Donner   1978-12-13\n",
      "1                Lolita     Stanley Kubrick   1962-06-13\n",
      "2               Солярис    Andrei Tarkovsky   1972-03-20\n",
      "3  Yours, Mine and Ours  Melville Shavelson   1968-04-24\n",
      "4             Pinocchio      Ben Sharpsteen   1940-02-23\n"
     ]
    }
   ],
   "source": [
    "movies_or_directors5 = \"\"\"SELECT m.original_title, d.name, release_date FROM movies AS m\n",
    "                            JOIN directors AS d\n",
    "                            ON m.director_id = d.id\n",
    "                            WHERE release_date < 2015-10-26\n",
    "                            LIMIT 5\"\"\"\n",
    "movies_on_release_date = pd.read_sql(movies_or_directors5, db)\n",
    "print(movies_on_release_date)"
   ]
  },
  {
   "cell_type": "code",
   "execution_count": null,
   "id": "3ca2f47c",
   "metadata": {},
   "outputs": [],
   "source": []
  },
  {
   "cell_type": "code",
   "execution_count": null,
   "id": "fc94a901",
   "metadata": {},
   "outputs": [],
   "source": []
  },
  {
   "cell_type": "code",
   "execution_count": null,
   "id": "340c5bac",
   "metadata": {},
   "outputs": [],
   "source": []
  }
 ],
 "metadata": {
  "kernelspec": {
   "display_name": "Python 3 (ipykernel)",
   "language": "python",
   "name": "python3"
  },
  "language_info": {
   "codemirror_mode": {
    "name": "ipython",
    "version": 3
   },
   "file_extension": ".py",
   "mimetype": "text/x-python",
   "name": "python",
   "nbconvert_exporter": "python",
   "pygments_lexer": "ipython3",
   "version": "3.9.7"
  }
 },
 "nbformat": 4,
 "nbformat_minor": 5
}
